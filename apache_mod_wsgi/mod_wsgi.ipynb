{
 "cells": [
  {
   "cell_type": "markdown",
   "metadata": {
    "slideshow": {
     "slide_type": "slide"
    }
   },
   "source": [
    "# Apache mod_wsgi and virtualenv deployment notes."
   ]
  },
  {
   "cell_type": "markdown",
   "metadata": {
    "slideshow": {
     "slide_type": "slide"
    }
   },
   "source": [
    "## Use case description"
   ]
  },
  {
   "cell_type": "markdown",
   "metadata": {
    "slideshow": {
     "slide_type": "fragment"
    }
   },
   "source": [
    "I have a little Django application in a git repo, the application is organized as explained here: https://github.com/PythonMilano/tdd-in-python"
   ]
  },
  {
   "cell_type": "markdown",
   "metadata": {
    "slideshow": {
     "slide_type": "fragment"
    }
   },
   "source": [
    "With this application is possible to reserve lab resources. It uses virtualenv to replicate in production all the stuff needed so that the application is able to run"
   ]
  },
  {
   "cell_type": "markdown",
   "metadata": {
    "slideshow": {
     "slide_type": "slide"
    }
   },
   "source": [
    "```\n",
    "requirements.txt\n",
    "```\n",
    "\n",
    "contains the information to replicate application environment."
   ]
  },
  {
   "cell_type": "markdown",
   "metadata": {
    "slideshow": {
     "slide_type": "slide"
    }
   },
   "source": [
    "## Deployment gotchas"
   ]
  },
  {
   "cell_type": "markdown",
   "metadata": {
    "slideshow": {
     "slide_type": "slide"
    }
   },
   "source": [
    "Provision a ubuntu virtual machine with a deployment user, let's say is ```bookadmin```"
   ]
  },
  {
   "cell_type": "markdown",
   "metadata": {
    "slideshow": {
     "slide_type": "fragment"
    }
   },
   "source": [
    "Follow this blog to install apache and mod_wsgi http://thecodeship.com/deployment/deploy-django-apache-virtualenv-and-mod_wsgi/"
   ]
  },
  {
   "cell_type": "markdown",
   "metadata": {
    "slideshow": {
     "slide_type": "slide"
    }
   },
   "source": [
    "## Setup application code"
   ]
  },
  {
   "cell_type": "markdown",
   "metadata": {
    "slideshow": {
     "slide_type": "slide"
    }
   },
   "source": [
    "Upload virtualenv-x-y-z.tar.gz on the target vm and untar it in the users' home directory."
   ]
  },
  {
   "cell_type": "markdown",
   "metadata": {
    "slideshow": {
     "slide_type": "fragment"
    }
   },
   "source": [
    "```python virtualenv-x.y.z/virtualenv.py ~/usr/labs```"
   ]
  },
  {
   "cell_type": "markdown",
   "metadata": {
    "slideshow": {
     "slide_type": "fragment"
    }
   },
   "source": [
    "```cd ~/src && git clone repo_user@repo_server:/workspace/repo_user/labs.git```"
   ]
  },
  {
   "cell_type": "markdown",
   "metadata": {
    "slideshow": {
     "slide_type": "subslide"
    }
   },
   "source": [
    "```source ~/usr/labs/bin/activate```"
   ]
  },
  {
   "cell_type": "markdown",
   "metadata": {
    "slideshow": {
     "slide_type": "fragment"
    }
   },
   "source": [
    "```pip install -r requirements.txt```"
   ]
  },
  {
   "cell_type": "markdown",
   "metadata": {
    "slideshow": {
     "slide_type": "slide"
    }
   },
   "source": [
    "## Setup apache virtualhost"
   ]
  },
  {
   "cell_type": "markdown",
   "metadata": {
    "slideshow": {
     "slide_type": "fragment"
    }
   },
   "source": [
    "```sudo mkdir /var/www/vbook.mydomain.com```"
   ]
  },
  {
   "cell_type": "markdown",
   "metadata": {
    "slideshow": {
     "slide_type": "fragment"
    }
   },
   "source": [
    "```sudo chown bookadmin:bookadmin /var/www/vbook.mydomain.com```"
   ]
  },
  {
   "cell_type": "markdown",
   "metadata": {
    "slideshow": {
     "slide_type": "fragment"
    }
   },
   "source": [
    "```cd /etc/apache2/sites-available```"
   ]
  },
  {
   "cell_type": "markdown",
   "metadata": {
    "slideshow": {
     "slide_type": "slide"
    }
   },
   "source": [
    "Create ```vbook.mydomain.com``` vbook is the vm name configured in the DNS. The file content is:"
   ]
  },
  {
   "cell_type": "markdown",
   "metadata": {
    "slideshow": {
     "slide_type": "subslide"
    }
   },
   "source": [
    "```\n",
    "<VirtualHost vbook.mydomain.com:80>\n",
    "        ServerAdmin user@mydomain.com\n",
    "        ServerName vbook.mydomain.com\n",
    "        ServerAlias vbook.mydomain.com\n",
    "        WSGIScriptAlias / /var/www/vbook.mydomain.com/wsgi.py\n",
    "        Alias /static/ /var/www/vbook.mydomain.com/static/\n",
    "        <Location \"/static/\">\n",
    "            Options -Indexes\n",
    "        </Location>\n",
    "</VirtualHost>\n",
    "```"
   ]
  },
  {
   "cell_type": "markdown",
   "metadata": {
    "slideshow": {
     "slide_type": "slide"
    }
   },
   "source": [
    "## Setup application for deployment"
   ]
  },
  {
   "cell_type": "markdown",
   "metadata": {
    "slideshow": {
     "slide_type": "fragment"
    }
   },
   "source": [
    "As a ```bookadmin``` user is necessary to accomplish these further steps\n",
    "\n",
    "* Comment ```DEBUG = True``` in ```~/src/labs/labs/settings.py``` file\n",
    "* Insert 'vbook.mydomain.com' into ```ALLOWED_HOSTS``` in ```~/src/labs/labs/settings.py``` file\n",
    "* Update ```~/src/labs/labs/wsgi.py```\n",
    "* invoke ```python manage.py collectstatic```\n"
   ]
  },
  {
   "cell_type": "markdown",
   "metadata": {
    "slideshow": {
     "slide_type": "slide"
    }
   },
   "source": [
    "```wsgi.py``` content is:"
   ]
  },
  {
   "cell_type": "markdown",
   "metadata": {
    "slideshow": {
     "slide_type": "subslide"
    }
   },
   "source": [
    "```python\n",
    "import os\n",
    "import sys\n",
    "import site\n",
    "\n",
    "import settings\n",
    "\n",
    "if not settings.DEBUG:\n",
    "    # add site-packages for virtualenv\n",
    "    site.addsitedir('/home/bookadmin/usr/labs/lib/python2.7/site-packages')\n",
    "\n",
    "    # add project's directories\n",
    "    sys.path.append('/home/bookadmin/src/labs')\n",
    "    sys.path.append('/home/bookadmin/src/labs/labs')\n",
    "\n",
    "    # Activate virtualenv\n",
    "    activate_env='/home/bookadmin/usr/labs/bin/activate_this.py'\n",
    "    execfile(activate_env, dict(__file__=activate_env))\n",
    "    \n",
    "os.environ.setdefault(\"DJANGO_SETTINGS_MODULE\", \"labs.settings\")\n",
    "\n",
    "from django.core.wsgi import get_wsgi_application\n",
    "application = get_wsgi_application()\n",
    "```"
   ]
  },
  {
   "cell_type": "markdown",
   "metadata": {
    "slideshow": {
     "slide_type": "slide"
    }
   },
   "source": [
    "Restart apache, and that's it."
   ]
  },
  {
   "cell_type": "markdown",
   "metadata": {
    "slideshow": {
     "slide_type": "slide"
    }
   },
   "source": [
    "# Conclusion"
   ]
  },
  {
   "cell_type": "markdown",
   "metadata": {
    "slideshow": {
     "slide_type": "fragment"
    }
   },
   "source": [
    "* ```python manage.py runserver``` is cheap, deployment is not.\n",
    "* use repositories, git or hg, because setup application code in production is easier.\n",
    "* Convert all manual steps in a fabfile.py or ansible playbook and add them to your repo: codify your infrastructure!"
   ]
  }
 ],
 "metadata": {
  "anaconda-cloud": {},
  "celltoolbar": "Slideshow",
  "kernelspec": {
   "display_name": "Python [conda root]",
   "language": "python",
   "name": "conda-root-py"
  },
  "language_info": {
   "codemirror_mode": {
    "name": "ipython",
    "version": 3
   },
   "file_extension": ".py",
   "mimetype": "text/x-python",
   "name": "python",
   "nbconvert_exporter": "python",
   "pygments_lexer": "ipython3",
   "version": "3.5.2"
  }
 },
 "nbformat": 4,
 "nbformat_minor": 1
}
